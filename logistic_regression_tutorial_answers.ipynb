{
 "cells": [
  {
   "cell_type": "markdown",
   "metadata": {},
   "source": [
    "# Logistic Regression Tutorial"
   ]
  },
  {
   "cell_type": "code",
   "execution_count": 92,
   "metadata": {},
   "outputs": [],
   "source": [
    "import matplotlib.pyplot as plt\n",
    "import numpy as np\n",
    "import pandas as pd\n",
    "from sklearn import linear_model, metrics, model_selection\n",
    "import random"
   ]
  },
  {
   "cell_type": "markdown",
   "metadata": {},
   "source": [
    "## Classification\n",
    "\n",
    "In regression we were trying to predict a continuous value - e.g. exam score.\n",
    "\n",
    "In classification we predict a class label for a given data point - e.g. pass/fail the exam. It might be a two-class problem like this (binary classification) or a many-class problem.\n",
    "\n",
    "Not only do we predict a class label, we also predict a probability for each class.\n",
    "\n",
    "Our example of pass fail can be pictured like this\n",
    "\n",
    "![logistic_regression](https://upload.wikimedia.org/wikipedia/commons/6/6d/Exam_pass_logistic_curve.jpeg)\n",
    "\n",
    "To perform classification we need to make a **decision**. This requires defining a **decision boundary**. This is going to be an affine set - in 1D (i.e. with one feature) this will be a point; in 2D (with two features) this will be a line; with three features a plane; etc...\n",
    "\n",
    "In our case above we could say if `num_hours_studying` $\\gt 2.7$ then we will predict `pass`.\n",
    "\n",
    "In a bivariate case our decision boundary might look like this\n",
    "\n",
    "![bivariate_logistic_regression](https://i0.wp.com/ucanalytics.com/blogs/wp-content/uploads/2017/09/Scatter-Plot-with-Boundary-Logistic-Regression.jpg?resize=768%2C578)"
   ]
  },
  {
   "cell_type": "markdown",
   "metadata": {},
   "source": [
    "## Hypothesis\n",
    "\n",
    "Our hypothesis for logistic regression can be linear or non-linear. What is different with linear regression is we want to output class probabilities. We need a way to express our hypothesis as a probability value.\n",
    "\n",
    "To do this we use the sigmoid function\n",
    "\n",
    "$$\\sigma(h) = \\frac{e^h}{e^h + 1} = \\frac{1}{1 + e^{-h}}$$\n",
    "\n",
    "![sigmoid](https://upload.wikimedia.org/wikipedia/commons/8/88/Logistic-curve.svg)\n",
    "\n",
    "We can see that this function is going to squash its input into the range $(0, 1)$ giving us a valid probability value.\n",
    "\n",
    "We will pass our linear or non-linear function of the data through the sigmoid function to get our final hypothesis\n",
    "\n",
    "$$h_\\theta(\\mathbf{x}) = P(y=1|\\mathbf{x}) = \\sigma(\\mathbf{a}^\\top\\mathbf{x})$$\n",
    "\n",
    "We can arbitrarily decide what $y=1$ means - in the example let's say passes the exam. Then the probability of failing the exam is given by\n",
    "\n",
    "$$P(y=0|\\mathbf{x}) = 1 - P(y=1|\\mathbf{x}) = 1 - \\sigma(\\mathbf{a}^\\top\\mathbf{x})$$"
   ]
  },
  {
   "cell_type": "markdown",
   "metadata": {},
   "source": [
    "## Loss Function\n",
    "\n",
    "MSE is not an appropriate loss function here. We are dealing with probabilities so the natural choice is negative log loss\n",
    "\n",
    "$$\\text{NLL} = -y \\log(h_\\theta) - (1 - y)\\log(1 - h_\\theta))$$\n",
    "\n",
    "$y$ is going to be either $1$ or $0$ so only one of these two terms will apply."
   ]
  },
  {
   "cell_type": "markdown",
   "metadata": {},
   "source": [
    "## Optimization\n",
    "\n",
    "We cannot use a closed form here so we will have to use **gradient descent**.\n",
    "\n",
    "When we learned about linear regression we noted that the loss surface was convex - from any point you know how to reach the global minimum.\n",
    "\n",
    "Our loss here is highly non-convex. Instead we need to use an iterative algorithm to take clever steps from an initial starting point to try and find a good local minimum. The picture looks like this\n",
    "\n",
    "![gradient_descent](https://cdn-images-1.medium.com/max/1600/1*f9a162GhpMbiTVTAua_lLQ.png)\n",
    "\n",
    "The key idea is that if you take the gradient of the parameters with respect to the loss at a particular point, it will tell you how to change those parameters to reduce the loss\n",
    "\n",
    "![gradient_descent_2](https://cdn-images-1.medium.com/max/800/0*rBQI7uBhBKE8KT-X.png)\n",
    "\n",
    "Clearly in this diagram if we start on the right, we need to **decrease** $w$ in order to lower our loss. That's really the main idea.\n",
    "\n",
    "With this algorithm we make a number of \"steps\" to update an improve the parameters. Each step the update is\n",
    "\n",
    "$$\\theta' = \\theta - \\beta \\frac{\\partial \\text{NLL}(h_\\theta, y)}{\\partial \\theta}$$\n",
    "\n",
    "Here the hyperparameter $\\beta$ is very important - it controls how big our steps are. In the above diagram if the learning rate made us step half the width of the \"U\" we would just bounce from side to side and never settle in the optimum.\n",
    "\n",
    "We also need to pay attention to how many steps we take. In the diagram if we just took two we wouldn't give the algorithm time to settle. In practice we will take many more steps than two. Be aware that you will have to tune this hyperparameter."
   ]
  },
  {
   "cell_type": "markdown",
   "metadata": {},
   "source": [
    "## Dataset\n",
    "\n",
    "A retrospective sample of males in a heart-disease high-risk region of the Western Cape, South Africa. There are roughly two controls per case of coronary heart disease (CHD). Many of the CHD positive men have undergone blood pressure reduction treatment and other programs to reduce their risk factors after their CHD event. In some cases the measurements were made after these treatments. These data are taken from a larger dataset, described in  Rousseauw et al, 1983, South African Medical Journal.  Downloaded from https://web.stanford.edu/~hastie/ElemStatLearn/.\n",
    "\n",
    "Features:\n",
    "- sbp: systolic blood pressure\n",
    "- tobacco:\tcumulative tobacco (kg)\n",
    "- ldl: low densiity lipoprotein cholesterol\n",
    "- adiposity\n",
    "- famhist: family history of heart disease (Present, Absent)\n",
    "- typea: type-A behavior\n",
    "- obesity\n",
    "- alcohol: current alcohol consumption\n",
    "- age: age at onset\n",
    "- chd: response, coronary heart disease"
   ]
  },
  {
   "cell_type": "markdown",
   "metadata": {},
   "source": [
    "## Preprocess the Data\n",
    "\n",
    "### Load the Data\n",
    "\n",
    "As usual, load the data with `pd.read_csv`. We have an index column in position zero and the separator is a comma. Load the data into a variable named `data`."
   ]
  },
  {
   "cell_type": "code",
   "execution_count": 86,
   "metadata": {},
   "outputs": [],
   "source": [
    "\"\"\"\n",
    "Task: load the data into a variable named data\n",
    "\"\"\"\n",
    "file_name = 'SAheart.data'\n",
    "data = pd.read_csv(file_name, sep=',', index_col=0)"
   ]
  },
  {
   "cell_type": "code",
   "execution_count": 87,
   "metadata": {},
   "outputs": [
    {
     "name": "stdout",
     "output_type": "stream",
     "text": [
      "Success!\n"
     ]
    }
   ],
   "source": [
    "assert len(data) == 462\n",
    "assert len(data.columns) == 10\n",
    "print('Success!')"
   ]
  },
  {
   "cell_type": "code",
   "execution_count": 65,
   "metadata": {
    "scrolled": true
   },
   "outputs": [
    {
     "data": {
      "text/html": [
       "<div>\n",
       "<style scoped>\n",
       "    .dataframe tbody tr th:only-of-type {\n",
       "        vertical-align: middle;\n",
       "    }\n",
       "\n",
       "    .dataframe tbody tr th {\n",
       "        vertical-align: top;\n",
       "    }\n",
       "\n",
       "    .dataframe thead th {\n",
       "        text-align: right;\n",
       "    }\n",
       "</style>\n",
       "<table border=\"1\" class=\"dataframe\">\n",
       "  <thead>\n",
       "    <tr style=\"text-align: right;\">\n",
       "      <th></th>\n",
       "      <th>sbp</th>\n",
       "      <th>tobacco</th>\n",
       "      <th>ldl</th>\n",
       "      <th>adiposity</th>\n",
       "      <th>famhist</th>\n",
       "      <th>typea</th>\n",
       "      <th>obesity</th>\n",
       "      <th>alcohol</th>\n",
       "      <th>age</th>\n",
       "      <th>chd</th>\n",
       "    </tr>\n",
       "    <tr>\n",
       "      <th>row.names</th>\n",
       "      <th></th>\n",
       "      <th></th>\n",
       "      <th></th>\n",
       "      <th></th>\n",
       "      <th></th>\n",
       "      <th></th>\n",
       "      <th></th>\n",
       "      <th></th>\n",
       "      <th></th>\n",
       "      <th></th>\n",
       "    </tr>\n",
       "  </thead>\n",
       "  <tbody>\n",
       "    <tr>\n",
       "      <th>1</th>\n",
       "      <td>160</td>\n",
       "      <td>12.00</td>\n",
       "      <td>5.73</td>\n",
       "      <td>23.11</td>\n",
       "      <td>Present</td>\n",
       "      <td>49</td>\n",
       "      <td>25.30</td>\n",
       "      <td>97.20</td>\n",
       "      <td>52</td>\n",
       "      <td>1</td>\n",
       "    </tr>\n",
       "    <tr>\n",
       "      <th>2</th>\n",
       "      <td>144</td>\n",
       "      <td>0.01</td>\n",
       "      <td>4.41</td>\n",
       "      <td>28.61</td>\n",
       "      <td>Absent</td>\n",
       "      <td>55</td>\n",
       "      <td>28.87</td>\n",
       "      <td>2.06</td>\n",
       "      <td>63</td>\n",
       "      <td>1</td>\n",
       "    </tr>\n",
       "    <tr>\n",
       "      <th>3</th>\n",
       "      <td>118</td>\n",
       "      <td>0.08</td>\n",
       "      <td>3.48</td>\n",
       "      <td>32.28</td>\n",
       "      <td>Present</td>\n",
       "      <td>52</td>\n",
       "      <td>29.14</td>\n",
       "      <td>3.81</td>\n",
       "      <td>46</td>\n",
       "      <td>0</td>\n",
       "    </tr>\n",
       "    <tr>\n",
       "      <th>4</th>\n",
       "      <td>170</td>\n",
       "      <td>7.50</td>\n",
       "      <td>6.41</td>\n",
       "      <td>38.03</td>\n",
       "      <td>Present</td>\n",
       "      <td>51</td>\n",
       "      <td>31.99</td>\n",
       "      <td>24.26</td>\n",
       "      <td>58</td>\n",
       "      <td>1</td>\n",
       "    </tr>\n",
       "    <tr>\n",
       "      <th>5</th>\n",
       "      <td>134</td>\n",
       "      <td>13.60</td>\n",
       "      <td>3.50</td>\n",
       "      <td>27.78</td>\n",
       "      <td>Present</td>\n",
       "      <td>60</td>\n",
       "      <td>25.99</td>\n",
       "      <td>57.34</td>\n",
       "      <td>49</td>\n",
       "      <td>1</td>\n",
       "    </tr>\n",
       "  </tbody>\n",
       "</table>\n",
       "</div>"
      ],
      "text/plain": [
       "           sbp  tobacco   ldl  adiposity  famhist  typea  obesity  alcohol  \\\n",
       "row.names                                                                    \n",
       "1          160    12.00  5.73      23.11  Present     49    25.30    97.20   \n",
       "2          144     0.01  4.41      28.61   Absent     55    28.87     2.06   \n",
       "3          118     0.08  3.48      32.28  Present     52    29.14     3.81   \n",
       "4          170     7.50  6.41      38.03  Present     51    31.99    24.26   \n",
       "5          134    13.60  3.50      27.78  Present     60    25.99    57.34   \n",
       "\n",
       "           age  chd  \n",
       "row.names            \n",
       "1           52    1  \n",
       "2           63    1  \n",
       "3           46    0  \n",
       "4           58    1  \n",
       "5           49    1  "
      ]
     },
     "execution_count": 65,
     "metadata": {},
     "output_type": "execute_result"
    }
   ],
   "source": [
    "data.head()"
   ]
  },
  {
   "cell_type": "markdown",
   "metadata": {},
   "source": [
    "### Manage Categorial Variable\n",
    "\n",
    "We once again have a categorical variable, `famhist`, which we need to make into a one-hot encoding. We do this for you this time."
   ]
  },
  {
   "cell_type": "code",
   "execution_count": 88,
   "metadata": {},
   "outputs": [],
   "source": [
    "data['famhist_true'] = data['famhist'] == 'Present'\n",
    "data['famhist_false'] = data['famhist'] == 'Absent'\n",
    "data = data.drop(['famhist'], axis=1)"
   ]
  },
  {
   "cell_type": "markdown",
   "metadata": {},
   "source": [
    "Because we will perform feature selection later, this time let's take the time to make a convenient function to separate a dataset into `train` and `test` and also split $x$ and $y$ in boths sets for us. We do this for you."
   ]
  },
  {
   "cell_type": "code",
   "execution_count": 133,
   "metadata": {},
   "outputs": [],
   "source": [
    "def splits(data):\n",
    "    # control randomization for reproducibility\n",
    "    np.random.seed(42)\n",
    "    random.seed(42)\n",
    "    train, test = model_selection.train_test_split(data)\n",
    "    x_train = train.loc[:, train.columns != 'chd']\n",
    "    y_train = train['chd']\n",
    "    x_test = test.loc[:, test.columns != 'chd']\n",
    "    y_test = test['chd']\n",
    "    return x_train, y_train, x_test, y_test"
   ]
  },
  {
   "cell_type": "markdown",
   "metadata": {},
   "source": [
    "## Data Visualization\n",
    "\n",
    "Let's now take a look at the relationships in the data. We can still use scatterplots for classification, but they look a bit different. Again let's make a convenient function for later use. As you will see we stretch the plot size to try and make these plots a bit clearer."
   ]
  },
  {
   "cell_type": "code",
   "execution_count": 146,
   "metadata": {},
   "outputs": [],
   "source": [
    "def plot_feature(_data, feature_name):\n",
    "    plt.figure(figsize=(10, 3))\n",
    "    plt.scatter(_data[feature_name], _data['chd'])\n",
    "    plt.xlabel(feature_name)\n",
    "    plt.ylabel('response')\n",
    "    plt.show()"
   ]
  },
  {
   "cell_type": "markdown",
   "metadata": {},
   "source": [
    "We'll take a look at one feature together then you should explore the rest of the dataset on your own and form your own opinions about which features are going to be useful."
   ]
  },
  {
   "cell_type": "code",
   "execution_count": 147,
   "metadata": {
    "scrolled": true
   },
   "outputs": [
    {
     "data": {
      "image/png": "[encoded data removed]",
      "text/plain": [
       "<Figure size 720x216 with 1 Axes>"
      ]
     },
     "metadata": {},
     "output_type": "display_data"
    }
   ],
   "source": [
    "plot_feature(data, 'adiposity')"
   ]
  },
  {
   "cell_type": "markdown",
   "metadata": {},
   "source": [
    "There seems to be a reasonable correlation here - this might be a useful feature. Explore the rest yourself with our helper function."
   ]
  },
  {
   "cell_type": "code",
   "execution_count": null,
   "metadata": {},
   "outputs": [],
   "source": [
    "\"\"\"\n",
    "Task: Explore the relationships in the data using the helper function `plot_feature`\n",
    "\"\"\"\n"
   ]
  },
  {
   "cell_type": "markdown",
   "metadata": {},
   "source": [
    "## Fit Baseline Model\n",
    "\n",
    "### Evaluation\n",
    "\n",
    "Since we are predicting the label of our classes (heart disease or none), we have a much more intuitive measure of performance: prediction accuracy. To calculate this we will use `sklearn.metrics.accuracy_score` - reference here http://scikit-learn.org/stable/modules/generated/sklearn.metrics.accuracy_score.html."
   ]
  },
  {
   "cell_type": "code",
   "execution_count": 136,
   "metadata": {},
   "outputs": [],
   "source": [
    "def evaluate(model, x_train, y_train, x_test, y_test):\n",
    "    train_preds = model.predict(x_train)\n",
    "    test_preds = model.predict(x_test)\n",
    "    train_acc = metrics.accuracy_score(y_train, train_preds)\n",
    "    test_acc = metrics.accuracy_score(y_test, test_preds)\n",
    "    print('Train accuracy: %s' % train_acc)\n",
    "    print('Test accuracy: %s' % test_acc)"
   ]
  },
  {
   "cell_type": "markdown",
   "metadata": {},
   "source": [
    "### Gradient Descent Model\n",
    "\n",
    "Here I will implement a baseline gradient descent model. I will not perform feature selection or tune regularization. You will then need to beat this baseline.\n",
    "\n",
    "The baseline use the `sklearn.linear_model.SGDClassifier` class - reference here http://scikit-learn.org/stable/modules/generated/sklearn.linear_model.SGDClassifier.html#sklearn.linear_model.SGDClassifier. By passing the argument `loss='log'` we get a logistic regression model.\n",
    "\n",
    "I append `bl` to the variables here to mark them as the baseline. Let's also add one more convenient helper function that will split the data, train the model, and return train and test accuracies."
   ]
  },
  {
   "cell_type": "code",
   "execution_count": 137,
   "metadata": {
    "scrolled": true
   },
   "outputs": [
    {
     "name": "stdout",
     "output_type": "stream",
     "text": [
      "Train accuracy: 0.6994219653179191\n",
      "Test accuracy: 0.6982758620689655\n"
     ]
    }
   ],
   "source": [
    "def split_train_evaluate(model, data):\n",
    "    x_train, y_train, x_test, y_test = splits(data)\n",
    "    model.fit(x_train, y_train)\n",
    "    evaluate(model, x_train, y_train, x_test, y_test)\n",
    "\n",
    "model_bl = linear_model.SGDClassifier(loss='log', max_iter=10000)\n",
    "split_train_evaluate(model_bl, data)"
   ]
  },
  {
   "cell_type": "markdown",
   "metadata": {},
   "source": [
    "## Beat the Baseline\n",
    "\n",
    "What may be difficult about this task is that for the first time during our tutorials we have a number of hyperparameters. This is the common situation in machine learning practice. One approach to dealin with this issue is to define a reasonable set of values for each hyperparameter and then search over all combinations of them using cross validation on the training set. This technique is called **grid search**."
   ]
  },
  {
   "cell_type": "markdown",
   "metadata": {},
   "source": [
    "### Grid Search\n",
    "\n",
    "We can perform gid search with `sklearn.model_selection.GridSearchCV`, reference here http://scikit-learn.org/stable/modules/generated/sklearn.model_selection.GridSearchCV.html.\n",
    "\n",
    "Let's try it out with a very small search space to show you how it works."
   ]
  },
  {
   "cell_type": "code",
   "execution_count": 138,
   "metadata": {},
   "outputs": [
    {
     "data": {
      "text/plain": [
       "GridSearchCV(cv=10, error_score='raise',\n",
       "       estimator=SGDClassifier(alpha=0.0001, average=False, class_weight=None, epsilon=0.1,\n",
       "       eta0=0.0, fit_intercept=True, l1_ratio=0.15,\n",
       "       learning_rate='optimal', loss='hinge', max_iter=None, n_iter=None,\n",
       "       n_jobs=1, penalty='l2', power_t=0.5, random_state=None,\n",
       "       shuffle=True, tol=None, verbose=0, warm_start=False),\n",
       "       fit_params=None, iid=True, n_jobs=1,\n",
       "       param_grid={'alpha': [0.01, 0.1, 1.0], 'max_iter': [1000, 10000]},\n",
       "       pre_dispatch='2*n_jobs', refit=True, return_train_score=True,\n",
       "       scoring=None, verbose=0)"
      ]
     },
     "execution_count": 138,
     "metadata": {},
     "output_type": "execute_result"
    }
   ],
   "source": [
    "x_train, y_train, x_test, y_test = splits(data)\n",
    "grid_search = model_selection.GridSearchCV(\n",
    "    estimator=linear_model.SGDClassifier(),\n",
    "    param_grid={'alpha': [0.01, 0.1, 1.],\n",
    "                'max_iter': [1000, 10000]},\n",
    "    cv=10,\n",
    "    return_train_score=True)\n",
    "grid_search.fit(x_train, y_train)"
   ]
  },
  {
   "cell_type": "markdown",
   "metadata": {},
   "source": [
    "The grid search results come in a dictionary that can be loaded directly into a pandas `DataFrame` for viewing so you can see what the parameter choices did."
   ]
  },
  {
   "cell_type": "code",
   "execution_count": 143,
   "metadata": {},
   "outputs": [
    {
     "data": {
      "text/html": [
       "<div>\n",
       "<style scoped>\n",
       "    .dataframe tbody tr th:only-of-type {\n",
       "        vertical-align: middle;\n",
       "    }\n",
       "\n",
       "    .dataframe tbody tr th {\n",
       "        vertical-align: top;\n",
       "    }\n",
       "\n",
       "    .dataframe thead th {\n",
       "        text-align: right;\n",
       "    }\n",
       "</style>\n",
       "<table border=\"1\" class=\"dataframe\">\n",
       "  <thead>\n",
       "    <tr style=\"text-align: right;\">\n",
       "      <th></th>\n",
       "      <th>params</th>\n",
       "      <th>mean_train_score</th>\n",
       "      <th>mean_test_score</th>\n",
       "    </tr>\n",
       "  </thead>\n",
       "  <tbody>\n",
       "    <tr>\n",
       "      <th>0</th>\n",
       "      <td>{'alpha': 0.01, 'max_iter': 1000}</td>\n",
       "      <td>0.633707</td>\n",
       "      <td>0.630058</td>\n",
       "    </tr>\n",
       "    <tr>\n",
       "      <th>1</th>\n",
       "      <td>{'alpha': 0.01, 'max_iter': 10000}</td>\n",
       "      <td>0.728646</td>\n",
       "      <td>0.699422</td>\n",
       "    </tr>\n",
       "    <tr>\n",
       "      <th>2</th>\n",
       "      <td>{'alpha': 0.1, 'max_iter': 1000}</td>\n",
       "      <td>0.708455</td>\n",
       "      <td>0.696532</td>\n",
       "    </tr>\n",
       "    <tr>\n",
       "      <th>3</th>\n",
       "      <td>{'alpha': 0.1, 'max_iter': 10000}</td>\n",
       "      <td>0.726074</td>\n",
       "      <td>0.722543</td>\n",
       "    </tr>\n",
       "    <tr>\n",
       "      <th>4</th>\n",
       "      <td>{'alpha': 1.0, 'max_iter': 1000}</td>\n",
       "      <td>0.712268</td>\n",
       "      <td>0.690751</td>\n",
       "    </tr>\n",
       "  </tbody>\n",
       "</table>\n",
       "</div>"
      ],
      "text/plain": [
       "                               params  mean_train_score  mean_test_score\n",
       "0   {'alpha': 0.01, 'max_iter': 1000}          0.633707         0.630058\n",
       "1  {'alpha': 0.01, 'max_iter': 10000}          0.728646         0.699422\n",
       "2    {'alpha': 0.1, 'max_iter': 1000}          0.708455         0.696532\n",
       "3   {'alpha': 0.1, 'max_iter': 10000}          0.726074         0.722543\n",
       "4    {'alpha': 1.0, 'max_iter': 1000}          0.712268         0.690751"
      ]
     },
     "execution_count": 143,
     "metadata": {},
     "output_type": "execute_result"
    }
   ],
   "source": [
    "r = pd.DataFrame(grid_search.cv_results_)\n",
    "# we only want a subset of the columns for a precise summary\n",
    "r[['params', 'mean_train_score', 'mean_test_score']].head()"
   ]
  },
  {
   "cell_type": "markdown",
   "metadata": {},
   "source": [
    "The grid seach also picks the best model for you automatically which you can then use with the optimal parameters from the grid search"
   ]
  },
  {
   "cell_type": "code",
   "execution_count": 145,
   "metadata": {},
   "outputs": [
    {
     "name": "stdout",
     "output_type": "stream",
     "text": [
      "Train accuracy: 0.7485549132947977\n",
      "Test accuracy: 0.7241379310344828\n"
     ]
    }
   ],
   "source": [
    "best_model = grid_search.best_estimator_\n",
    "evaluate(best_model, x_train, y_train, x_test, y_test)"
   ]
  },
  {
   "cell_type": "markdown",
   "metadata": {},
   "source": [
    "So we have already improved our baseline."
   ]
  },
  {
   "cell_type": "markdown",
   "metadata": {},
   "source": [
    "### Your Turn\n",
    "\n",
    "You can use the grid search code above to find your best model and beat our baseline test accuracy of $72.4$ percent.\n",
    "\n",
    "You will want to examine the parameters in the `SGDClassifier` documentation (http://scikit-learn.org/stable/modules/generated/sklearn.linear_model.SGDClassifier.html#sklearn.linear_model.SGDClassifier) and make your own decisions about what a reasonable search space should look like.\n",
    "\n",
    "Also be aware that if your best value for a parameter is on the edge of your search space, you want to expand the space further in that direction to see if you can keep climbing. For example if my space for $\\alpha$ was `[0.1, 0.5, 1.]`, and the best result came with `1.`, then I should definitely try `2.` and `5.` and so on.\n",
    "\n",
    "Also don't forget feature selection. Return to the section where we were visualizing. Try and apply some $L2$ penalty through the parameters to perform ridge regression if you like."
   ]
  },
  {
   "cell_type": "code",
   "execution_count": null,
   "metadata": {},
   "outputs": [],
   "source": [
    "\"\"\"\n",
    "Task: Beat the baseline 72.4% test accuracy\n",
    "\"\"\"\n"
   ]
  }
 ],
 "metadata": {
  "kernelspec": {
   "display_name": "Python [conda env:py36]",
   "language": "python",
   "name": "conda-env-py36-py"
  },
  "language_info": {
   "codemirror_mode": {
    "name": "ipython",
    "version": 3
   },
   "file_extension": ".py",
   "mimetype": "text/x-python",
   "name": "python",
   "nbconvert_exporter": "python",
   "pygments_lexer": "ipython3",
   "version": "3.6.6"
  }
 },
 "nbformat": 4,
 "nbformat_minor": 2
}
