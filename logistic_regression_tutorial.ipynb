{
 "cells": [
  {
   "cell_type": "markdown",
   "metadata": {},
   "source": [
    "# Logistic Regression Tutorial\n",
    "---\n",
    "According to [Wikipedia](https://en.wikipedia.org/wiki/Logistic_regression), logistic regression is widely used for binary classification (in economics, discrete choice). Logistic regression was developed by statistician David Cox in 1958. The binary logistic model is used to estimate the probability of a binary response based on one or more predictor (or independent) variables (features). It allows one to say that the presence of a risk factor increases the odds of a given outcome by a specific factor."
   ]
  },
  {
   "cell_type": "markdown",
   "metadata": {},
   "source": [
    "## Import packages\n",
    "---\n",
    "Import packages to make most of the third-party functions work. "
   ]
  },
  {
   "cell_type": "code",
   "execution_count": 1,
   "metadata": {
    "ExecuteTime": {
     "end_time": "2018-05-17T21:36:04.346474+08:00",
     "start_time": "2018-05-17T21:36:04.133009Z"
    }
   },
   "outputs": [],
   "source": [
    "# set matplotlib output will show in notebook\n",
    "%matplotlib inline\n",
    "\n",
    "import matplotlib.pyplot as plt\n",
    "\n",
    "# import basic package\n",
    "import numpy as np\n",
    "import math"
   ]
  },
  {
   "cell_type": "markdown",
   "metadata": {},
   "source": [
    "## Prepare dataset for learning\n",
    "---\n",
    "Let us generate some points to test our simple logistic regression work. The points are stored in a list and later will be converted to numpy array using `np.array`. Each element in the list is a tuple combined by points position (in X, Y) and its label (in binary). For example, point at position (-0.4, 0.3) is categorized in label \"0\" will be entered as element by a tuple variable: `((-0.4, 0.3), 0)`. You can easily imagine that the element here is an instance of the whole dataset, which has two features and labeled by \"0\"."
   ]
  },
  {
   "cell_type": "code",
   "execution_count": 2,
   "metadata": {
    "ExecuteTime": {
     "end_time": "2018-05-17T21:36:04.350976+08:00",
     "start_time": "2018-05-17T21:36:04.347244Z"
    }
   },
   "outputs": [],
   "source": [
    "dataset = np.array([\n",
    "((-0.4, 0.3), 0),\n",
    "((-0.3, -0.1), 0),\n",
    "((-0.2, 0.4), 0),\n",
    "((-0.1, 0.1), 0),\n",
    "((0.6, -0.5), 0), #非線性分割點\n",
    "\n",
    "((0.8, 0.7), 1),\n",
    "((0.9, -0.5), 1),\n",
    "((0.7, -0.9), 1),\n",
    "((0.8, 0.2), 1),\n",
    "((0.4, -0.6), 1)])"
   ]
  },
  {
   "cell_type": "markdown",
   "metadata": {
    "ExecuteTime": {
     "end_time": "2018-05-17T21:35:29.230300+08:00",
     "start_time": "2018-05-17T21:35:29.226940Z"
    }
   },
   "source": [
    "Let us see how this data perform by plotting on a 2D canvas."
   ]
  },
  {
   "cell_type": "code",
   "execution_count": 3,
   "metadata": {
    "ExecuteTime": {
     "end_time": "2018-05-17T21:36:04.462576+08:00",
     "start_time": "2018-05-17T21:36:04.351660Z"
    }
   },
   "outputs": [
    {
     "data": {
      "image/png": "[encoded data removed]",
      "text/plain": [
       "<matplotlib.figure.Figure at 0x47c3a50>"
      ]
     },
     "metadata": {},
     "output_type": "display_data"
    }
   ],
   "source": [
    "# show current dataset distribution\n",
    "plt.scatter([v[0][0] for v in dataset if v[1]==1],[v[0][1] for v in dataset if v[1]==1],c=\"b\",marker=\"o\")\n",
    "plt.scatter([v[0][0] for v in dataset if v[1]==0],[v[0][1] for v in dataset if v[1]==0],c=\"r\",marker=\"x\")\n",
    "plt.show()"
   ]
  },
  {
   "cell_type": "markdown",
   "metadata": {},
   "source": [
    "We can conclude that this is a simple dataset that can easily be linear separate. Now we switched to a real-world dataset, called \"iris\". You can find more information about what this dataset is from this [link](https://en.wikipedia.org/wiki/Iris_flower_data_set). Generally speaking, the iris dataset aims to classify three different types of iris flowers based on four attributes. We will use the data provided in sklearn's package and will do some process to make it becomes a binary classification problem."
   ]
  },
  {
   "cell_type": "code",
   "execution_count": 4,
   "metadata": {
    "ExecuteTime": {
     "end_time": "2018-05-17T21:36:04.616341+08:00",
     "start_time": "2018-05-17T21:36:04.463569Z"
    }
   },
   "outputs": [],
   "source": [
    "# load sklearn iris dataset\n",
    "from sklearn import datasets\n",
    "\n",
    "iris = datasets.load_iris()\n",
    "\n",
    "X = iris.data  \n",
    "Y = iris.target\n",
    "\n",
    "# bridge sklearn dataset to our simple implementation\n",
    "# pull out only one label\n",
    "\n",
    "dataset=[]\n",
    "\n",
    "target_label=2 # choose a flower type to generate data that whether is this type of flower or not\n",
    "for idx,x in enumerate(X):\n",
    "    transform_label=None\n",
    "    if Y[idx]==target_label:\n",
    "        transform_label=1 # is this flower type\n",
    "    else:\n",
    "        transform_label=0 # is not this flower type\n",
    "    x=[x[0],x[2]]\n",
    "    dataset.append((x,transform_label))\n",
    "    \n",
    "dataset=np.array(dataset)"
   ]
  },
  {
   "cell_type": "markdown",
   "metadata": {},
   "source": [
    "Let us see how this data perform by plotting on a 2D canvas: you can see our manually picked attributes for determining which type of iris is whether linear separatable or not."
   ]
  },
  {
   "cell_type": "code",
   "execution_count": 5,
   "metadata": {
    "ExecuteTime": {
     "end_time": "2018-05-17T21:36:04.722459+08:00",
     "start_time": "2018-05-17T21:36:04.617132Z"
    }
   },
   "outputs": [
    {
     "data": {
      "image/png": "[encoded data removed]",
      "text/plain": [
       "<matplotlib.figure.Figure at 0x591ae50>"
      ]
     },
     "metadata": {},
     "output_type": "display_data"
    }
   ],
   "source": [
    "# show current dataset distribution\n",
    "plt.scatter([v[0][0] for v in dataset if v[1]==1],[v[0][1] for v in dataset if v[1]==1],c=\"b\",marker=\"o\")\n",
    "plt.scatter([v[0][0] for v in dataset if v[1]==0],[v[0][1] for v in dataset if v[1]==0],c=\"r\",marker=\"x\")\n",
    "plt.show()"
   ]
  },
  {
   "cell_type": "markdown",
   "metadata": {},
   "source": [
    "Looks it can be separated by a linear line, doesn't it? :)"
   ]
  },
  {
   "cell_type": "markdown",
   "metadata": {},
   "source": [
    "## Probability function\n",
    "---\n",
    "Logistic regression is similar to linear regression, but when tuning weights for each input value (a.k.a. X), the output (a.k.a. Y) will be in binary format. To make regression value normalized to the range between binary (such as 0 and 1), a probability function will be applied on each output to get normalized value, which the equation frequently used is the **sigmoid** function, shows in below:\n",
    "$$\\sigma(x) = \\frac{1}{1+e^{-x}}$$\n",
    "Now the practice begin :) **Complete the following blank part of the code by the sigmoid function above.**"
   ]
  },
  {
   "cell_type": "code",
   "execution_count": 6,
   "metadata": {
    "ExecuteTime": {
     "end_time": "2018-05-17T21:36:04.725271+08:00",
     "start_time": "2018-05-17T21:36:04.723468Z"
    }
   },
   "outputs": [],
   "source": [
    "def sigmoid(z):\n",
    "    return 1 / (1 + np.exp(-z)) # this line will be blank"
   ]
  },
  {
   "cell_type": "markdown",
   "metadata": {},
   "source": [
    "## Loss function\n",
    "---\n",
    "Now, according to [Wikipedia](https://en.wikipedia.org/wiki/Loss_function), in mathematical optimization, statistics, machine learning and computational neuroscience, a loss function or cost function is a function that maps an event or values of one or more variables onto a real number intuitively representing some \"cost\" associated with the event. An optimization problem seeks to minimize a loss function. The loss function here we used is basic, achieved by the following equation:\n",
    "$$L(x,y,w)=\\sum( | y-\\sigma(w^T \\cdot x) | )$$\n",
    "Where $y$ is the answer from the dataset of the given input point, $w^T \\cdot x$ is the output value by learned weight and input, by applied $\\sigma$ is to normalize the value into a range (this case is 0 and 1). Note that the $\\sum$ here is to accumulate each input's loss (a.k.a. cost) for later use to get the amount of gradient descent.\n",
    "Practice time :) **Complete the calculation of `error` with correct input for sigmoid and complete the loss calculation in the next line.**"
   ]
  },
  {
   "cell_type": "code",
   "execution_count": 7,
   "metadata": {
    "ExecuteTime": {
     "end_time": "2018-05-17T21:36:04.729717+08:00",
     "start_time": "2018-05-17T21:36:04.726322Z"
    }
   },
   "outputs": [],
   "source": [
    "def cost(dataset, w):\n",
    "    total_cost = 0\n",
    "    for x,y in dataset:\n",
    "        x = np.array(x)\n",
    "        error = sigmoid(w.T.dot(x)) # this line will be blank\n",
    "        total_cost += abs(y - error) # this line will be blank\n",
    "    return total_cost"
   ]
  },
  {
   "cell_type": "markdown",
   "metadata": {},
   "source": [
    "## Gradient descend\n",
    "---\n",
    "After we got the result from the loss function, in machine learning, the core method is to calculate how to adjust weights based on the derived loss, the widely used method is **gradient descend**. According to the loss function, simply by differential the loss function to get its gradient descend function, shows in the following equation:\n",
    "$$G(x,y,w)=(\\sigma(w^T \\cdot x) - y) * x$$\n",
    "Now, practice time again :) **Based on the above equation, fill the blank part in the following code to get predicted value and gradient descend.**"
   ]
  },
  {
   "cell_type": "code",
   "execution_count": 8,
   "metadata": {
    "ExecuteTime": {
     "end_time": "2018-05-17T21:36:04.734311+08:00",
     "start_time": "2018-05-17T21:36:04.730801Z"
    }
   },
   "outputs": [],
   "source": [
    "def gradient(dataset, w):\n",
    "    g = np.zeros(len(w))\n",
    "    for x,y in dataset:\n",
    "        x = np.array(x)\n",
    "        error = sigmoid(w.T.dot(x)) # this line will be blank\n",
    "        g += (error - y) * x # this line will be blank\n",
    "    return g / len(dataset)"
   ]
  },
  {
   "cell_type": "markdown",
   "metadata": {},
   "source": [
    "## Logistic regression main function\n",
    "---\n",
    "We have gathered the essential functions for logistic regression, now we are going to combine them and make them work together to achieve what logistic regression does. In each iteration, the cost of each weight resulted will be calculated, then the algorithm will call gradient function to determine what direction should move, by applying the ratio that how gradient will be applied (a.k.a. learning rate, eta), the new weight will be calculated. To optimize the learning rate, after each iteration will make it smaller. To update the weights, following equation will be applied to combine cost, gradient and learning rate.\n",
    "$$w_{t+1}=w_t-\\eta * G(x,y,w)$$\n",
    "Okay, practice time again! **Based on the above equation that updates weights via gradient, fill the blank part of the code below.**"
   ]
  },
  {
   "cell_type": "code",
   "execution_count": 9,
   "metadata": {
    "ExecuteTime": {
     "end_time": "2018-05-17T21:36:06.215559+08:00",
     "start_time": "2018-05-17T21:36:04.735316Z"
    },
    "scrolled": true
   },
   "outputs": [
    {
     "name": "stdout",
     "output_type": "stream",
     "text": [
      "epoch= 0: current_cost= 75.0\n",
      "epoch= 100: current_cost= 57.43348730732741\n",
      "epoch= 200: current_cost= 54.01073056872087\n",
      "epoch= 300: current_cost= 52.94812396538501\n",
      "epoch= 400: current_cost= 52.580821381302854\n",
      "epoch= 500: current_cost= 52.4491119536252\n",
      "epoch= 600: current_cost= 52.40126080916573\n",
      "epoch= 700: current_cost= 52.38379343947546\n",
      "epoch= 800: current_cost= 52.377406189594566\n",
      "epoch= 900: current_cost= 52.37506910244765\n"
     ]
    }
   ],
   "source": [
    "def logistic(dataset):\n",
    "    w = np.zeros(len(dataset[0][0]))\n",
    "\n",
    "    limit = 1000 #更新十次後停下\n",
    "\n",
    "    eta = 0.03 #更新幅度\n",
    "\n",
    "    costs = [] #紀錄每次更新權重後新的cost是多少\n",
    "\n",
    "    for i in range(limit):\n",
    "        current_cost = cost(dataset, w)\n",
    "        if i%100==0:\n",
    "            print \"epoch= \"+str(i)+\": current_cost=\",current_cost\n",
    "        costs.append(current_cost)\n",
    "        w = w - eta * gradient(dataset, w)\n",
    "        eta *= 0.99 #更新幅度，逐步遞減\n",
    "        \n",
    "    return w,(limit,costs)\n",
    "\n",
    "# implement logistic class and run it\n",
    "w = logistic(dataset)\n",
    "limit = w[1][0]\n",
    "costs = w[1][1]\n",
    "w = w[0]"
   ]
  },
  {
   "cell_type": "markdown",
   "metadata": {},
   "source": [
    "## Visualization\n",
    "---\n",
    "Great! Here shows your implementation of logistic regression's cost performance after each iteration on learning the simple dataset. Also in the next block will show the learned linear line that best separates the given point into two class."
   ]
  },
  {
   "cell_type": "code",
   "execution_count": 10,
   "metadata": {
    "ExecuteTime": {
     "end_time": "2018-05-17T21:36:06.304544+08:00",
     "start_time": "2018-05-17T21:36:06.216325Z"
    }
   },
   "outputs": [
    {
     "data": {
      "image/png": "[encoded data removed]",
      "text/plain": [
       "<matplotlib.figure.Figure at 0x47bbd50>"
      ]
     },
     "metadata": {},
     "output_type": "display_data"
    }
   ],
   "source": [
    "# show loss curve\n",
    "\n",
    "plt.plot(range(limit), costs)\n",
    "plt.show()"
   ]
  },
  {
   "cell_type": "code",
   "execution_count": 11,
   "metadata": {
    "ExecuteTime": {
     "end_time": "2018-05-17T21:36:06.808521+08:00",
     "start_time": "2018-05-17T21:36:06.305606Z"
    }
   },
   "outputs": [
    {
     "data": {
      "image/png": "[encoded data removed]",
      "text/plain": [
       "<matplotlib.figure.Figure at 0x5c0d550>"
      ]
     },
     "metadata": {},
     "output_type": "display_data"
    }
   ],
   "source": [
    "# show result\n",
    "\n",
    "ps = [v[0] for v in dataset]\n",
    "label = [v[1] for v in dataset]\n",
    "fig = plt.figure()\n",
    "ax1 = fig.add_subplot(111)\n",
    "\n",
    "# plot via label\n",
    "tpx=[]\n",
    "for idx,Label in enumerate(label):\n",
    "    px=ps[idx][0]\n",
    "    py=ps[idx][1]\n",
    "    tpx.append(px)\n",
    "    if Label==1:\n",
    "        ax1.scatter(px, py, c='b', marker=\"o\", label='O')\n",
    "    else:\n",
    "        ax1.scatter(px, py, c='r', marker=\"x\", label='X')\n",
    "\n",
    "l = np.linspace(min(tpx),max(tpx))\n",
    "a,b = -w[0]/w[1], w[0]\n",
    "ax1.plot(l, a*l + b, 'g-')\n",
    "#plt.legend(loc='upper left');\n",
    "plt.show()"
   ]
  },
  {
   "cell_type": "markdown",
   "metadata": {},
   "source": [
    "## Reference\n",
    "\n",
    "> http://terrence.logdown.com/posts/440690-python-super-simple-implementation-of-logistic-regression-classification-and-examples"
   ]
  }
 ],
 "metadata": {
  "kernelspec": {
   "display_name": "Python 2",
   "language": "python",
   "name": "python2"
  },
  "language_info": {
   "codemirror_mode": {
    "name": "ipython",
    "version": 2
   },
   "file_extension": ".py",
   "mimetype": "text/x-python",
   "name": "python",
   "nbconvert_exporter": "python",
   "pygments_lexer": "ipython2",
   "version": "2.7.5"
  },
  "toc": {
   "nav_menu": {},
   "number_sections": false,
   "sideBar": true,
   "skip_h1_title": false,
   "title_cell": "Table of Contents",
   "title_sidebar": "Contents",
   "toc_cell": false,
   "toc_position": {},
   "toc_section_display": true,
   "toc_window_display": false
  }
 },
 "nbformat": 4,
 "nbformat_minor": 2
}
