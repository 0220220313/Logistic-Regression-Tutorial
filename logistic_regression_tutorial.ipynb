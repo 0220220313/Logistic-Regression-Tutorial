{
 "cells": [
  {
   "cell_type": "markdown",
   "metadata": {},
   "source": [
    "# Logistic Regression Tutorial\n",
    "---\n",
    "According to [Wikipedia](https://en.wikipedia.org/wiki/Logistic_regression), logistic regression is widely used for binary classification (in economics, discrete choice). Logistic regression was developed by statistician David Cox in 1958. The binary logistic model is used to estimate the probability of a binary response based on one or more predictor (or independent) variables (features). It allows one to say that the presence of a risk factor increases the odds of a given outcome by a specific factor."
   ]
  },
  {
   "cell_type": "markdown",
   "metadata": {},
   "source": [
    "## Import packages\n",
    "---\n",
    "Import packages to make most of the third-party functions work. "
   ]
  },
  {
   "cell_type": "code",
   "execution_count": 1,
   "metadata": {},
   "outputs": [
    {
     "name": "stderr",
     "output_type": "stream",
     "text": [
      "/usr/local/lib/python2.7/site-packages/matplotlib/font_manager.py:273: UserWarning: Matplotlib is building the font cache using fc-list. This may take a moment.\n",
      "  warnings.warn('Matplotlib is building the font cache using fc-list. This may take a moment.')\n"
     ]
    }
   ],
   "source": [
    "# set matplotlib output will show in notebook\n",
    "%matplotlib inline\n",
    "\n",
    "import matplotlib.pyplot as plt\n",
    "\n",
    "# import basic package\n",
    "import numpy as np\n",
    "import math"
   ]
  },
  {
   "cell_type": "markdown",
   "metadata": {},
   "source": [
    "## Prepare dataset for learning\n",
    "---\n",
    "Let us generate some points to test our simple logistic regression work. The points are stored in a list and later will be converted to numpy array using `np.array`. Each element in the list is a tuple combined by points position (in X, Y) and its label (in binary). For example, point at position (-0.4, 0.3) is categorized in label \"0\" will be entered as element by a tuple variable: `((-0.4, 0.3), 0)`. You can easily imagine that the element here is an instance of the whole dataset, which has two features and labeled by \"0\"."
   ]
  },
  {
   "cell_type": "code",
   "execution_count": 2,
   "metadata": {},
   "outputs": [],
   "source": [
    "dataset = np.array([\n",
    "((-0.4, 0.3), 0),\n",
    "((-0.3, -0.1), 0),\n",
    "((-0.2, 0.4), 0),\n",
    "((-0.1, 0.1), 0),\n",
    "((0.6, -0.5), 0), #非線性分割點\n",
    "\n",
    "((0.8, 0.7), 1),\n",
    "((0.9, -0.5), 1),\n",
    "((0.7, -0.9), 1),\n",
    "((0.8, 0.2), 1),\n",
    "((0.4, -0.6), 1)])"
   ]
  },
  {
   "cell_type": "markdown",
   "metadata": {},
   "source": [
    "## Probability function\n",
    "---\n",
    "Logistic regression is similar to linear regression, but when tuning weights for each input value (a.k.a. X), the output (a.k.a. Y) will be in binary format. To make regression value normalized to the range between binary (such as 0 and 1), a probability function will be applied on each output to get normalized value, which the equation frequently used is the **sigmoid** function, shows in below:\n",
    "$$\\sigma(x) = \\frac{1}{1+e^{-x}}$$\n",
    "Now the practice begin :) **Complete the following blank part of the code by the sigmoid function above.**"
   ]
  },
  {
   "cell_type": "code",
   "execution_count": 3,
   "metadata": {},
   "outputs": [],
   "source": [
    "def sigmoid(z):\n",
    "    return 1 / (1 + np.exp(-z)) # this line will be blank"
   ]
  },
  {
   "cell_type": "markdown",
   "metadata": {},
   "source": [
    "## Loss function\n",
    "---\n",
    "Now, according to [Wikipedia](https://en.wikipedia.org/wiki/Loss_function), in mathematical optimization, statistics, machine learning and computational neuroscience, a loss function or cost function is a function that maps an event or values of one or more variables onto a real number intuitively representing some \"cost\" associated with the event. An optimization problem seeks to minimize a loss function. The loss function here we used is basic, achieved by the following equation:\n",
    "$$\\sum( | y-\\sigma(w^T \\cdot x) | )$$\n",
    "Where $y$ is the answer from the dataset of the given input point, $w^T \\cdot x$ is the output value by learned weight and input, by applied $\\sigma$ is to normalize the value into a range (this case is 0 and 1). Note that the $\\sum$ here is to accumulate each input's loss (a.k.a. cost) for later use to get the amount of gradient descent.\n",
    "Practice time :) **Complete the calculation of `error` with correct input for sigmoid and complete the loss calculation in the next line.**"
   ]
  },
  {
   "cell_type": "code",
   "execution_count": 4,
   "metadata": {},
   "outputs": [],
   "source": [
    "def cost(dataset, w):\n",
    "    total_cost = 0\n",
    "    for x,y in dataset:\n",
    "        x = np.array(x)\n",
    "        error = sigmoid(w.T.dot(x)) # this line will be blank\n",
    "        total_cost += abs(y - error) # this line will be blank\n",
    "    return total_cost"
   ]
  },
  {
   "cell_type": "markdown",
   "metadata": {},
   "source": [
    "## Gradient descend\n",
    "---\n",
    "After we got the result from the loss function, in machine learning, the core method is to calculate how to adjust weights based on the derived loss, the widely used method is **gradient descend**. According to the loss function, simply by differential the loss function to get its gradient descend function, shows in the following equation:\n",
    "$$G(x,y,w)=(\\sigma(w^T \\cdot x) - y) * x$$\n",
    "Now, practice time again :) **Based on the above equation, fill the blank part in the following code to get predicted value and gradient descend.**"
   ]
  },
  {
   "cell_type": "code",
   "execution_count": 5,
   "metadata": {},
   "outputs": [],
   "source": [
    "def gradient(dataset, w):\n",
    "    g = np.zeros(len(w))\n",
    "    for x,y in dataset:\n",
    "        x = np.array(x)\n",
    "        error = sigmoid(w.T.dot(x)) # this line will be blank\n",
    "        g += (error - y) * x # this line will be blank\n",
    "    return g / len(dataset)"
   ]
  },
  {
   "cell_type": "markdown",
   "metadata": {},
   "source": [
    "## Logistic regression main function\n",
    "---\n",
    "We have gathered the essential functions for logistic regression, now we are going to combine them and make them work together to achieve what logistic regression does. In each iteration, the cost of each weight resulted will be calculated, then the algorithm will call gradient function to determine what direction should move, by applying the ratio that how gradient will be applied (a.k.a. learning rate, eta), the new weight will be calculated. To optimize the learning rate, after each iteration will make it smaller. To update the weights, following equation will be applied to combine cost, gradient and learning rate.\n",
    "$$w_{t+1}=w_t-\\eta * G(x,y,w)$$\n",
    "Okay, practice time again! **Based on the above equation that updates weights via gradient, fill the blank part of the code below.**"
   ]
  },
  {
   "cell_type": "code",
   "execution_count": 6,
   "metadata": {
    "scrolled": true
   },
   "outputs": [
    {
     "name": "stdout",
     "output_type": "stream",
     "text": [
      "epoch= 0: current_cost= 5.0\n",
      "epoch= 1: current_cost= 4.779324992618724\n",
      "epoch= 2: current_cost= 4.592325118679643\n",
      "epoch= 3: current_cost= 4.433784172346616\n",
      "epoch= 4: current_cost= 4.2988429404745006\n",
      "epoch= 5: current_cost= 4.183335692123967\n",
      "epoch= 6: current_cost= 4.083829185998179\n",
      "epoch= 7: current_cost= 3.997544238504702\n",
      "epoch= 8: current_cost= 3.922245734051402\n",
      "epoch= 9: current_cost= 3.8561364373975593\n",
      "epoch= 10: current_cost= 3.797766345396848\n",
      "epoch= 11: current_cost= 3.7459593853048343\n",
      "epoch= 12: current_cost= 3.699755636442656\n",
      "epoch= 13: current_cost= 3.658366302645526\n",
      "epoch= 14: current_cost= 3.621138749186363\n",
      "epoch= 15: current_cost= 3.5875293334969207\n",
      "epoch= 16: current_cost= 3.5570822212990123\n",
      "epoch= 17: current_cost= 3.5294127890234948\n",
      "epoch= 18: current_cost= 3.504194545083119\n",
      "epoch= 19: current_cost= 3.481148760359043\n",
      "epoch= 20: current_cost= 3.460036194458772\n",
      "epoch= 21: current_cost= 3.4406504521226635\n",
      "epoch= 22: current_cost= 3.4228126150954257\n",
      "epoch= 23: current_cost= 3.4063668780283987\n",
      "epoch= 24: current_cost= 3.3911769795858944\n",
      "epoch= 25: current_cost= 3.377123267184753\n",
      "epoch= 26: current_cost= 3.364100269627837\n",
      "epoch= 27: current_cost= 3.352014679200705\n",
      "epoch= 28: current_cost= 3.340783665727156\n",
      "epoch= 29: current_cost= 3.330333461205148\n",
      "epoch= 30: current_cost= 3.3205981661416284\n",
      "epoch= 31: current_cost= 3.311518738444283\n",
      "epoch= 32: current_cost= 3.303042133360836\n",
      "epoch= 33: current_cost= 3.295120568970827\n",
      "epoch= 34: current_cost= 3.2877108964990107\n",
      "epoch= 35: current_cost= 3.2807740585131815\n",
      "epoch= 36: current_cost= 3.2742746211051332\n",
      "epoch= 37: current_cost= 3.2681803685947868\n",
      "epoch= 38: current_cost= 3.2624619512700574\n",
      "epoch= 39: current_cost= 3.257092578275882\n",
      "epoch= 40: current_cost= 3.2520477490708606\n",
      "epoch= 41: current_cost= 3.2473050179382725\n",
      "epoch= 42: current_cost= 3.242843786916334\n",
      "epoch= 43: current_cost= 3.2386451232372098\n",
      "epoch= 44: current_cost= 3.2346915979645057\n",
      "epoch= 45: current_cost= 3.2309671430180016\n",
      "epoch= 46: current_cost= 3.227456924190712\n",
      "epoch= 47: current_cost= 3.2241472281118955\n",
      "epoch= 48: current_cost= 3.221025361402387\n",
      "epoch= 49: current_cost= 3.2180795605152737\n",
      "epoch= 50: current_cost= 3.2152989109633907\n",
      "epoch= 51: current_cost= 3.2126732748118596\n",
      "epoch= 52: current_cost= 3.2101932254640415\n",
      "epoch= 53: current_cost= 3.207849988897414\n",
      "epoch= 54: current_cost= 3.2056353906152544\n",
      "epoch= 55: current_cost= 3.2035418076738633\n",
      "epoch= 56: current_cost= 3.2015621252255815\n",
      "epoch= 57: current_cost= 3.1996896970873054\n",
      "epoch= 58: current_cost= 3.1979183099040225\n",
      "epoch= 59: current_cost= 3.1962421505287875\n",
      "epoch= 60: current_cost= 3.194655776285417\n",
      "epoch= 61: current_cost= 3.1931540878192624\n",
      "epoch= 62: current_cost= 3.1917323042753907\n",
      "epoch= 63: current_cost= 3.19038594057317\n",
      "epoch= 64: current_cost= 3.1891107865721597\n",
      "epoch= 65: current_cost= 3.1879028879469318\n",
      "epoch= 66: current_cost= 3.186758528608354\n",
      "epoch= 67: current_cost= 3.185674214526374\n",
      "epoch= 68: current_cost= 3.184646658824774\n",
      "epoch= 69: current_cost= 3.1836727680319554\n",
      "epoch= 70: current_cost= 3.1827496293838147\n",
      "epoch= 71: current_cost= 3.181874499085435\n",
      "epoch= 72: current_cost= 3.1810447914477\n",
      "epoch= 73: current_cost= 3.1802580688233353\n",
      "epoch= 74: current_cost= 3.179512032274291\n",
      "epoch= 75: current_cost= 3.178804512909009\n",
      "epoch= 76: current_cost= 3.1781334638340306\n",
      "epoch= 77: current_cost= 3.177496952669629\n",
      "epoch= 78: current_cost= 3.1768931545839356\n",
      "epoch= 79: current_cost= 3.1763203458041356\n",
      "epoch= 80: current_cost= 3.175776897567213\n",
      "epoch= 81: current_cost= 3.1752612704760104\n",
      "epoch= 82: current_cost= 3.1747720092294838\n",
      "epoch= 83: current_cost= 3.1743077376987525\n",
      "epoch= 84: current_cost= 3.173867154323005\n",
      "epoch= 85: current_cost= 3.173449027801583\n",
      "epoch= 86: current_cost= 3.1730521930605438\n",
      "epoch= 87: current_cost= 3.172675547473844\n",
      "epoch= 88: current_cost= 3.172318047320927\n",
      "epoch= 89: current_cost= 3.1719787044639927\n",
      "epoch= 90: current_cost= 3.171656583229578\n",
      "epoch= 91: current_cost= 3.1713507974803115\n",
      "epoch= 92: current_cost= 3.1710605078638276\n",
      "epoch= 93: current_cost= 3.170784919226829\n",
      "epoch= 94: current_cost= 3.1705232781832335\n",
      "epoch= 95: current_cost= 3.170274870826175\n",
      "epoch= 96: current_cost= 3.170039020574403\n",
      "epoch= 97: current_cost= 3.1698150861443373\n",
      "epoch= 98: current_cost= 3.169602459639669\n",
      "epoch= 99: current_cost= 3.1694005647510104\n"
     ]
    }
   ],
   "source": [
    "def logistic(dataset):\n",
    "    w = np.zeros(len(dataset[0][0]))\n",
    "\n",
    "    limit = 100 #更新十次後停下\n",
    "\n",
    "    eta = 1 #更新幅度\n",
    "\n",
    "    costs = [] #紀錄每次更新權重後新的cost是多少\n",
    "\n",
    "    for i in range(limit):\n",
    "        current_cost = cost(dataset, w)\n",
    "        print \"epoch= \"+str(i)+\": current_cost=\",current_cost\n",
    "        costs.append(current_cost)\n",
    "        w = w - eta * gradient(dataset, w)\n",
    "        eta *= 0.95 #更新幅度，逐步遞減\n",
    "        \n",
    "    return w,(limit,costs)\n",
    "\n",
    "# implement logistic class and run it\n",
    "w = logistic(dataset)\n",
    "limit = w[1][0]\n",
    "costs = w[1][1]\n",
    "w = w[0]"
   ]
  },
  {
   "cell_type": "markdown",
   "metadata": {},
   "source": [
    "## Visualization\n",
    "---\n",
    "Great! Here shows your implementation of logistic regression's cost performance after each iteration on learning the simple dataset. Also in the next block will show the learned linear line that best separates the given point into two class."
   ]
  },
  {
   "cell_type": "code",
   "execution_count": 7,
   "metadata": {},
   "outputs": [
    {
     "data": {
      "image/png": "[encoded data removed]",
      "text/plain": [
       "<matplotlib.figure.Figure at 0x10be18150>"
      ]
     },
     "metadata": {},
     "output_type": "display_data"
    }
   ],
   "source": [
    "# show loss curve\n",
    "\n",
    "plt.plot(range(limit), costs)\n",
    "plt.show()"
   ]
  },
  {
   "cell_type": "code",
   "execution_count": 8,
   "metadata": {},
   "outputs": [
    {
     "data": {
      "image/png": "[encoded data removed]",
      "text/plain": [
       "<matplotlib.figure.Figure at 0x10bed7110>"
      ]
     },
     "metadata": {},
     "output_type": "display_data"
    }
   ],
   "source": [
    "# show result\n",
    "\n",
    "ps = [v[0] for v in dataset]\n",
    "label = [v[1] for v in dataset]\n",
    "fig = plt.figure()\n",
    "ax1 = fig.add_subplot(111)\n",
    "\n",
    "# plot via label\n",
    "for idx,Label in enumerate(label):\n",
    "    if Label==1:\n",
    "        ax1.scatter(ps[idx][0],ps[idx][1], s=10, c='b', marker=\"o\", label='O')\n",
    "    else:\n",
    "        ax1.scatter(ps[idx][0],ps[idx][1], s=10, c='r', marker=\"x\", label='X')\n",
    "\n",
    "l = np.linspace(-2,2)\n",
    "a,b = w[0]/w[1], w[0]\n",
    "ax1.plot(l, a*l + b, 'b-')\n",
    "#plt.legend(loc='upper left');\n",
    "plt.show()"
   ]
  },
  {
   "cell_type": "markdown",
   "metadata": {},
   "source": [
    "## Reference\n",
    "\n",
    "> http://terrence.logdown.com/posts/440690-python-super-simple-implementation-of-logistic-regression-classification-and-examples"
   ]
  },
  {
   "cell_type": "code",
   "execution_count": null,
   "metadata": {},
   "outputs": [],
   "source": []
  }
 ],
 "metadata": {
  "kernelspec": {
   "display_name": "Python 2",
   "language": "python",
   "name": "python2"
  },
  "language_info": {
   "codemirror_mode": {
    "name": "ipython",
    "version": 2
   },
   "file_extension": ".py",
   "mimetype": "text/x-python",
   "name": "python",
   "nbconvert_exporter": "python",
   "pygments_lexer": "ipython2",
   "version": "2.7.12"
  }
 },
 "nbformat": 4,
 "nbformat_minor": 2
}
