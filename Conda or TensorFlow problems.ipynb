{
 "cells": [
  {
   "cell_type": "markdown",
   "metadata": {},
   "source": [
    "To confirm your install is working, please try this in your anaconda prompt / terminal:\n",
    "\n",
    "```\n",
    "python\n",
    "> import keras\n",
    "```\n",
    "\n",
    "If you have any problems with this, you may need to check your Python version. An immediate solution is to submit the following commands:\n",
    "\n",
    "```\n",
    "conda create -n ml python=3.6\n",
    "conda activate ml (if you have windows or) source activate ml (if you have linux)\n",
    "pip install tensorflow\n",
    "pip install keras\n",
    "pip install matplotlib\n",
    "pip install sklearn\n",
    "pip install tqdm\n",
    "```"
   ]
  },
  {
   "cell_type": "code",
   "execution_count": null,
   "metadata": {},
   "outputs": [],
   "source": []
  }
 ],
 "metadata": {
  "kernelspec": {
   "display_name": "py36",
   "language": "python",
   "name": "py36"
  },
  "language_info": {
   "codemirror_mode": {
    "name": "ipython",
    "version": 3
   },
   "file_extension": ".py",
   "mimetype": "text/x-python",
   "name": "python",
   "nbconvert_exporter": "python",
   "pygments_lexer": "ipython3",
   "version": "3.6.7"
  }
 },
 "nbformat": 4,
 "nbformat_minor": 2
}
