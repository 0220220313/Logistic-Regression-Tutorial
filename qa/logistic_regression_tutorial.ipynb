{
 "cells": [
  {
   "cell_type": "markdown",
   "metadata": {},
   "source": [
    "# Logistic Regression Tutorial\n",
    "## Introduction\n",
    "---\n",
    "### What classification does?\n",
    "The response variable ***y*** takes a discrete value and represents class membership. E.g. we might want to regress number of hours studied onto pass/fail an exam:\n",
    "$$y \\in {0, 1} \\space where \\space 0 = Pass \\space and \\space 1 = Fail$$\n",
    "We will also aim to generate a probability of class membership.\n",
    "![](img\\probability_passing_exam.png)\n",
    "\n",
    "### What makes classification works? The decision boundary\n",
    "We need to make a “decision” about each observation as to which class it belongs to. With two features we might find a classification situation like this. Our goal will be to find an affine set (in this case a line) that “best” separates our two classes.\n",
    "![](img\\decision_boundary.png)\n",
    "\n",
    "### Here comes the Logistic Regression\n",
    "#### Overview\n",
    "We want to find:\n",
    "1. Linear decision boundary\n",
    "2. Probabilities for class membership\n",
    "Q: Why not use linear regression and say anything over ***0.5*** is a ***1*** and less is a ***0***?\n",
    "A: There is nothing constraining linear regression values to lie within $[0, 1]$ and therefore will not give us probabilities to satisfy (2).\n",
    "\n",
    "Interpreted as taking log-odds as input and giving probability as output. It is easy to see it squashes the input values to be within $[0, 1]$.\n",
    "\n",
    "$$\\sigma(x) = \\frac{e^h}{e^h+1} = \\frac{1}{1+e^{-x}}$$\n",
    "\n",
    "![](img\\sigmoid.png\")\n",
    "\n",
    "#### Hypothesis\n",
    "Whereas in linear regression we had (assuming the bias is added to ***x***)\n",
    "$$h_\\theta(x)=\\theta^\\top x$$\n",
    "With logistic regression we now have\n",
    "$$h_\\theta(x)=\\sigma(\\theta^\\top x)=P(y=1\\mid x)$$\n",
    "Which can be interpreted as the probability of being classified as class 1. The probability of class 2 is then given by\n",
    "$$P(y=2\\mid x)=1-P(y=1\\mid x)=1-\\sigma(\\theta^\\top x)$$\n",
    "\n",
    "#### Deal with decision boundary\n",
    "Suppose our decision boundary is given by\n",
    "$$h_\\theta(x)\\ge0.5\\to y=1$$\n",
    "$$h_\\theta(x)<0.5 \\to y=0$$\n",
    "And note that for the sigmoid function\n",
    "$$\\sigma(z)>0.5\\space when \\space z\\ge 0$$\n",
    "This means\n",
    "$$h_\\theta(x)=\\sigma(\\theta^\\top x)\\ge 0.5\\space when \\space \\theta^\\top x \\ge 0$$\n",
    "$$\\theta^\\top \\ge 0 \\Rightarrow y=1$$\n",
    "$$\\theta^\\top < 0 \\Rightarrow y=0$$\n",
    "\n",
    "#### Decision boundary in action\n",
    "In this case the decision boundary is a vertical line at $x1 = 5$\n",
    "$$\\theta=\\begin{bmatrix}\n",
    "5 \\\\\n",
    "-1 \\\\\n",
    "0 \\\\\n",
    " \\end{bmatrix}$$\n",
    "$$y=1\\space if \\space 5+(-1)x_1+0x_2 \\ge 0\\\\\n",
    "5-x_1 \\ge 0\\\\\n",
    "-x_1 \\ge -5\\\\\n",
    "x_1 \\le 5\\\\\n",
    "$$\n",
    "\n",
    "#### More details\n",
    "According to [Wikipedia](https://en.wikipedia.org/wiki/Logistic_regression), logistic regression is widely used for binary classification (in economics, discrete choice). Logistic regression was developed by statistician David Cox in 1958. The binary logistic model is used to estimate the probability of a binary response based on one or more predictor (or independent) variables (features). It allows one to say that the presence of a risk factor increases the odds of a given outcome by a specific factor.\n",
    "\n",
    "---"
   ]
  },
  {
   "cell_type": "markdown",
   "metadata": {},
   "source": [
    "## Let's get started! Import packages\n",
    "---\n",
    "Import packages to make most of the third-party functions work. "
   ]
  },
  {
   "cell_type": "code",
   "execution_count": 1,
   "metadata": {
    "ExecuteTime": {
     "end_time": "2018-05-18T14:52:25.815427+08:00",
     "start_time": "2018-05-18T14:52:25.601586Z"
    }
   },
   "outputs": [],
   "source": [
    "# set matplotlib output will show in notebook\n",
    "%matplotlib inline\n",
    "\n",
    "import matplotlib.pyplot as plt\n",
    "\n",
    "# import basic package\n",
    "import numpy as np\n",
    "import math"
   ]
  },
  {
   "cell_type": "markdown",
   "metadata": {},
   "source": [
    "## Prepare dataset for learning\n",
    "---\n",
    "Let us generate some points to test our simple logistic regression work. The points are stored in a list and later will be converted to numpy array using `np.array`. Each element in the list is a tuple combined by points position (in X, Y) and its label (in binary). For example, point at position (-0.4, 0.3) is categorized in label \"0\" will be entered as element by a tuple variable: `((-0.4, 0.3), 0)`. You can easily imagine that the element here is an instance of the whole dataset, which has two features and labeled by \"0\"."
   ]
  },
  {
   "cell_type": "code",
   "execution_count": 2,
   "metadata": {
    "ExecuteTime": {
     "end_time": "2018-05-18T14:52:25.819929+08:00",
     "start_time": "2018-05-18T14:52:25.816202Z"
    }
   },
   "outputs": [],
   "source": [
    "dataset = np.array([\n",
    "((-0.4, 0.3), 0),\n",
    "((-0.3, -0.1), 0),\n",
    "((-0.2, 0.4), 0),\n",
    "((-0.1, 0.1), 0),\n",
    "((0.6, -0.5), 0), #非線性分割點\n",
    "\n",
    "((0.8, 0.7), 1),\n",
    "((0.9, -0.5), 1),\n",
    "((0.7, -0.9), 1),\n",
    "((0.8, 0.2), 1),\n",
    "((0.4, -0.6), 1)])"
   ]
  },
  {
   "cell_type": "markdown",
   "metadata": {
    "ExecuteTime": {
     "end_time": "2018-05-17T21:35:29.230300+08:00",
     "start_time": "2018-05-17T21:35:29.226940Z"
    }
   },
   "source": [
    "Let us see how this data perform by plotting on a 2D canvas."
   ]
  },
  {
   "cell_type": "code",
   "execution_count": 3,
   "metadata": {
    "ExecuteTime": {
     "end_time": "2018-05-18T14:52:25.932143+08:00",
     "start_time": "2018-05-18T14:52:25.820697Z"
    }
   },
   "outputs": [
    {
     "data": {
      "image/png": "[encoded data removed]",
      "text/plain": [
       "<Figure size 432x288 with 1 Axes>"
      ]
     },
     "metadata": {},
     "output_type": "display_data"
    }
   ],
   "source": [
    "# show current dataset distribution\n",
    "plt.scatter([v[0][0] for v in dataset if v[1]==1],[v[0][1] for v in dataset if v[1]==1],c=\"b\",marker=\"o\")\n",
    "plt.scatter([v[0][0] for v in dataset if v[1]==0],[v[0][1] for v in dataset if v[1]==0],c=\"r\",marker=\"x\")\n",
    "plt.show()"
   ]
  },
  {
   "cell_type": "markdown",
   "metadata": {},
   "source": [
    "We can conclude that this is a simple dataset that can easily be linear separate. Now we switched to a real-world dataset, called \"iris\". You can find more information about what this dataset is from this [link](https://en.wikipedia.org/wiki/Iris_flower_data_set). Generally speaking, the iris dataset aims to classify three different types of iris flowers based on four attributes. We will use the data provided in sklearn's package and will do some process to make it becomes a binary classification problem."
   ]
  },
  {
   "cell_type": "code",
   "execution_count": 4,
   "metadata": {
    "ExecuteTime": {
     "end_time": "2018-05-18T14:52:26.084001+08:00",
     "start_time": "2018-05-18T14:52:25.933256Z"
    }
   },
   "outputs": [],
   "source": [
    "# load sklearn iris dataset\n",
    "from sklearn import datasets\n",
    "\n",
    "iris = datasets.load_iris()\n",
    "\n",
    "X = iris.data  \n",
    "Y = iris.target\n",
    "\n",
    "# bridge sklearn dataset to our simple implementation\n",
    "# pull out only one label\n",
    "\n",
    "dataset=[]\n",
    "\n",
    "target_label=2 # choose a flower type to generate data that whether is this type of flower or not\n",
    "for idx,x in enumerate(X):\n",
    "    transform_label=None\n",
    "    if Y[idx]==target_label:\n",
    "        transform_label=1 # is this flower type\n",
    "    else:\n",
    "        transform_label=0 # is not this flower type\n",
    "    x=[x[0],x[2]]\n",
    "    dataset.append((x,transform_label))\n",
    "    \n",
    "dataset=np.array(dataset)"
   ]
  },
  {
   "cell_type": "markdown",
   "metadata": {},
   "source": [
    "Let us see how this data perform by plotting on a 2D canvas: you can see our manually picked attributes for determining which type of iris is whether linear separatable or not."
   ]
  },
  {
   "cell_type": "code",
   "execution_count": 5,
   "metadata": {
    "ExecuteTime": {
     "end_time": "2018-05-18T14:52:26.190058+08:00",
     "start_time": "2018-05-18T14:52:26.084843Z"
    }
   },
   "outputs": [
    {
     "data": {
      "image/png": "[encoded data removed]",
      "text/plain": [
       "<Figure size 432x288 with 1 Axes>"
      ]
     },
     "metadata": {},
     "output_type": "display_data"
    }
   ],
   "source": [
    "# show current dataset distribution\n",
    "plt.scatter([v[0][0] for v in dataset if v[1]==1],[v[0][1] for v in dataset if v[1]==1],c=\"b\",marker=\"o\")\n",
    "plt.scatter([v[0][0] for v in dataset if v[1]==0],[v[0][1] for v in dataset if v[1]==0],c=\"r\",marker=\"x\")\n",
    "plt.show()"
   ]
  },
  {
   "cell_type": "markdown",
   "metadata": {},
   "source": [
    "Looks it can be separated by a linear line, doesn't it? :)"
   ]
  },
  {
   "cell_type": "markdown",
   "metadata": {},
   "source": [
    "## Probability function\n",
    "---\n",
    "Logistic regression is similar to linear regression, but when tuning weights for each input value (a.k.a. X), the output (a.k.a. Y) will be in binary format. To make regression value normalized to the range between binary (such as 0 and 1), a probability function will be applied on each output to get normalized value, which the equation frequently used is the **sigmoid** function, shows in below:\n",
    "$$\\sigma(x) = \\frac{1}{1+e^{-x}}$$\n",
    "Now the practice begin :) **Complete the following blank part of the code by the sigmoid function above.**"
   ]
  },
  {
   "cell_type": "code",
   "execution_count": 6,
   "metadata": {
    "ExecuteTime": {
     "end_time": "2018-05-18T14:52:26.193442+08:00",
     "start_time": "2018-05-18T14:52:26.191204Z"
    }
   },
   "outputs": [],
   "source": [
    "def sigmoid(z):\n",
    "    return 1 / (1 + np.exp(-z)) # this line will be blank"
   ]
  },
  {
   "cell_type": "markdown",
   "metadata": {},
   "source": [
    "## Loss function\n",
    "---\n",
    "The logit function will cause least squares to be non-convex. We instead use maximum likelihood. This maximizes the likelihood (i.e. probability) of the observed labels given the data. This is equivalent to minimizing the negative likelihood. We can also take a log to simplify matters (it is monotone).\n",
    "$$\n",
    "J(\\theta)=\\frac{1}{m}\\sum^m_{i=1}Cost(h\\theta(x^{(i)}),y^{(i)})\\\\\n",
    "Cost(h_\\theta(x),y)=-\\log(h_\\theta(x))\\space if \\space y=1\\\\\n",
    "Cost(h_\\theta(x),y)=-\\log(1-h_\\theta(x))\\space if \\space y=0\n",
    "$$\n",
    "This can be combined into\n",
    "$$Cost(h_\\theta(x),y)=-y\\log (h_\\theta(x))-(1-y)\\log(1-h_\\theta(x))$$\n",
    "\n",
    "Now, more officially, according to [Wikipedia](https://en.wikipedia.org/wiki/Loss_function), in mathematical optimization, statistics, machine learning and computational neuroscience, a loss function or cost function is a function that maps an event or values of one or more variables onto a real number intuitively representing some \"cost\" associated with the event. An optimization problem seeks to minimize a loss function. The loss function here we used is basic, achieved by the following equation:\n",
    "$$L(x,y,w)=\\sum( | y-\\sigma(w^T \\cdot x) | )$$\n",
    "Where $y$ is the answer from the dataset of the given input point, $w^T \\cdot x$ is the output value by learned weight and input, by applied $\\sigma$ is to normalize the value into a range (this case is 0 and 1). Note that the $\\sum$ here is to accumulate each input's loss (a.k.a. cost) for later use to get the amount of gradient descent.\n",
    "Practice time :) **Complete the calculation of `error` with correct input for sigmoid and complete the loss calculation in the next line.**"
   ]
  },
  {
   "cell_type": "code",
   "execution_count": 7,
   "metadata": {
    "ExecuteTime": {
     "end_time": "2018-05-18T14:52:26.198266+08:00",
     "start_time": "2018-05-18T14:52:26.194755Z"
    }
   },
   "outputs": [],
   "source": [
    "def cost(dataset, w):\n",
    "    total_cost = 0\n",
    "    for x,y in dataset:\n",
    "        x = np.array(x)\n",
    "        error = sigmoid(w.T.dot(x)) # this line will be blank\n",
    "        total_cost += abs(y - error) # this line will be blank\n",
    "    return total_cost"
   ]
  },
  {
   "cell_type": "markdown",
   "metadata": {},
   "source": [
    "## Optimization\n",
    "---\n",
    "There is no closed-form solution for logistic regression like there is for linear regression. Instead we need to use iterative methods: \n",
    "- Start off with a tentative solution\n",
    "- Try to improve it iteratively\n",
    "- Stop when no more improvements are possible\n",
    "\n",
    "\n",
    "### Gradient descend \n",
    "After we got the result from the loss function, in machine learning, the core method is to calculate how to adjust weights based on the derived loss, the widely used method is **gradient descend**. According to the loss function, simply by differential the loss function to get its gradient descend function, shows in the following equation:\n",
    "$$G(x,y,w)=(\\sigma(w^T \\cdot x) - y) * x$$\n",
    "Now, practice time again :) **Based on the above equation, fill the blank part in the following code to get predicted value and gradient descend.**"
   ]
  },
  {
   "cell_type": "code",
   "execution_count": 8,
   "metadata": {
    "ExecuteTime": {
     "end_time": "2018-05-18T14:52:26.203441+08:00",
     "start_time": "2018-05-18T14:52:26.199514Z"
    }
   },
   "outputs": [],
   "source": [
    "def gradient(dataset, w):\n",
    "    g = np.zeros(len(w))\n",
    "    for x,y in dataset:\n",
    "        x = np.array(x)\n",
    "        error = sigmoid(w.T.dot(x)) # this line will be blank\n",
    "        g += (error - y) * x # this line will be blank\n",
    "    return g / len(dataset)"
   ]
  },
  {
   "cell_type": "markdown",
   "metadata": {},
   "source": [
    "Other optimization methods? More efficient?\n",
    "\n",
    "### Stochastic Gradient Descent (Optional)\n",
    "If we’re at the red point the gradient is going to tell us how to change theta in order to reduce the cost - move towards the left, make theta smaller.\n",
    "![](img\\stochastic_gradient_descent.png)\n",
    "We use the derivative of the loss function wrt the parameters to tell us how to change the parameters in order to lower the loss\n",
    "The general form of an update is\n",
    "$$Repeat\\{\\theta_j := \\theta_j-\\alpha\\frac{\\partial}{\\partial\\theta_j}J(\\theta)\\}$$\n",
    "Which in our specific case gives\n",
    "$$Repeat\\{\\theta_j := \\theta_j-\\frac{\\alpha}{m}\\sum^m_{i=1}(h_\\theta(x^{(i)}-y^{(i)}))x_j^{(i)}\\}$$"
   ]
  },
  {
   "cell_type": "markdown",
   "metadata": {},
   "source": [
    "## Logistic regression main function\n",
    "---\n",
    "We have gathered the essential functions for logistic regression, now we are going to combine them and make them work together to achieve what logistic regression does. In each iteration, the cost of each weight resulted will be calculated, then the algorithm will call gradient function to determine what direction should move, by applying the ratio that how gradient will be applied (a.k.a. learning rate, eta), the new weight will be calculated. To optimize the learning rate, after each iteration will make it smaller. To update the weights, following equation will be applied to combine cost, gradient and learning rate.\n",
    "$$w_{t+1}=w_t-\\eta * G(x,y,w)$$\n",
    "Okay, practice time again! **Based on the above equation that updates weights via gradient, fill the blank part of the code below.**"
   ]
  },
  {
   "cell_type": "code",
   "execution_count": 9,
   "metadata": {
    "ExecuteTime": {
     "end_time": "2018-05-18T14:52:27.615953+08:00",
     "start_time": "2018-05-18T14:52:26.204690Z"
    },
    "scrolled": true
   },
   "outputs": [
    {
     "name": "stdout",
     "output_type": "stream",
     "text": [
      "epoch= 0: current_cost= 75.0\n",
      "epoch= 100: current_cost= 57.43348730732741\n",
      "epoch= 200: current_cost= 54.01073056872087\n",
      "epoch= 300: current_cost= 52.94812396538501\n",
      "epoch= 400: current_cost= 52.580821381302854\n",
      "epoch= 500: current_cost= 52.4491119536252\n",
      "epoch= 600: current_cost= 52.40126080916573\n",
      "epoch= 700: current_cost= 52.38379343947546\n",
      "epoch= 800: current_cost= 52.377406189594566\n",
      "epoch= 900: current_cost= 52.37506910244765\n",
      "Accuracy:  0.906 %\n"
     ]
    }
   ],
   "source": [
    "from sklearn.metrics import accuracy_score\n",
    "\n",
    "def logistic(dataset):\n",
    "    w = np.zeros(len(dataset[0][0]))\n",
    "\n",
    "    limit = 1000 #更新幾次後停下\n",
    "\n",
    "    eta = 0.03 #更新幅度\n",
    "\n",
    "    costs = [] #紀錄每次更新權重後新的cost是多少\n",
    "\n",
    "    for i in range(limit):\n",
    "        current_cost = cost(dataset, w)\n",
    "        if i%100==0:\n",
    "            print(\"epoch= \"+str(i)+\": current_cost=\",current_cost)\n",
    "        costs.append(current_cost)\n",
    "        w = w - eta * gradient(dataset, w)\n",
    "        eta *= 0.99 #更新幅度，逐步遞減\n",
    "        \n",
    "    return w,(limit,costs)\n",
    "\n",
    "# implement logistic class and run it\n",
    "w = logistic(dataset)\n",
    "limit = w[1][0]\n",
    "costs = w[1][1]\n",
    "w = w[0]\n",
    "\n",
    "# calculate score\n",
    "pY=[]\n",
    "aY=[]\n",
    "for X,Y in dataset:\n",
    "    aY.append(Y)\n",
    "    pY.append(sigmoid(w.T.dot(X)))\n",
    "pY=np.asarray(pY)\n",
    "pY=pY>0.5\n",
    "print(\"Accuracy: \",str(accuracy_score(aY,pY))[:5],\"%\")"
   ]
  },
  {
   "cell_type": "markdown",
   "metadata": {},
   "source": [
    "## Visualization\n",
    "---\n",
    "Great! Here shows your implementation of logistic regression's cost performance after each iteration on learning the simple dataset. Also in the next block will show the learned linear line that best separates the given point into two class."
   ]
  },
  {
   "cell_type": "code",
   "execution_count": 10,
   "metadata": {
    "ExecuteTime": {
     "end_time": "2018-05-18T14:52:27.700857+08:00",
     "start_time": "2018-05-18T14:52:27.616739Z"
    }
   },
   "outputs": [
    {
     "data": {
      "image/png": "[encoded data removed]",
      "text/plain": [
       "<Figure size 432x288 with 1 Axes>"
      ]
     },
     "metadata": {},
     "output_type": "display_data"
    }
   ],
   "source": [
    "# show loss curve\n",
    "\n",
    "plt.plot(range(limit), costs)\n",
    "plt.show()"
   ]
  },
  {
   "cell_type": "code",
   "execution_count": 11,
   "metadata": {
    "ExecuteTime": {
     "end_time": "2018-05-18T14:52:28.189431+08:00",
     "start_time": "2018-05-18T14:52:27.701942Z"
    }
   },
   "outputs": [
    {
     "data": {
      "image/png": "[encoded data removed]",
      "text/plain": [
       "<Figure size 432x288 with 1 Axes>"
      ]
     },
     "metadata": {},
     "output_type": "display_data"
    }
   ],
   "source": [
    "# show result\n",
    "from mpl_toolkits.mplot3d import Axes3D\n",
    "from matplotlib import animation\n",
    "from IPython.display import HTML\n",
    "\n",
    "ps = [v[0] for v in dataset]\n",
    "label = [v[1] for v in dataset]\n",
    "fig = plt.figure()\n",
    "ax1 = fig.add_subplot(111, projection='3d')\n",
    "\n",
    "# prepare data to plot\n",
    "tpx=[]\n",
    "tpy=[]\n",
    "fpx=[]\n",
    "fpy=[]\n",
    "for idx,Label in enumerate(label):\n",
    "    px=ps[idx][0]\n",
    "    py=ps[idx][1]\n",
    "    if Label==1:\n",
    "        tpx.append(px)\n",
    "        tpy.append(py)\n",
    "    else:\n",
    "        fpx.append(px)\n",
    "        fpy.append(py)        \n",
    "\n",
    "\n",
    "# plot via label\n",
    "def init():\n",
    "    ax1.scatter([x for x in tpx], [y for y in tpy], 1, c='b', marker=\"o\", label='O')\n",
    "    ax1.scatter([x for x in fpx], [y for y in fpy], 0, c='r', marker=\"x\", label='X')\n",
    "\n",
    "    # plot separate surface\n",
    "    X, Y = np.meshgrid(tpx+fpx, tpy+fpy)\n",
    "    tpz=np.array([sigmoid(w[0]*x+w[1]*y)for x,y in zip(np.ravel(X),np.ravel(Y))])\n",
    "    Z=tpz.reshape(X.shape)\n",
    "    ax1.plot_surface(X, Y, Z)\n",
    "    \n",
    "# call once for a static figure\n",
    "init()\n",
    "ax1.view_init(30, 180)# this is used to rotate the axis, the arguments are tilt and pan angle"
   ]
  },
  {
   "cell_type": "code",
   "execution_count": 12,
   "metadata": {},
   "outputs": [],
   "source": [
    "# show animation, this should take some time :)\n",
    "def animate(i):\n",
    "    ax1.view_init(elev=10., azim=i)\n",
    "    return fig\n",
    "\n",
    "anim = animation.FuncAnimation(fig, animate, init_func=init,\n",
    "                               frames=360, interval=20)\n",
    "\n",
    "# embed video player inside notebook\n",
    "HTML(anim.to_html5_video())"
   ]
  },
  {
   "cell_type": "markdown",
   "metadata": {},
   "source": [
    "# What's next?\n",
    "---\n",
    "Now we have found a good line to separate these points into two labels, but what about points that are not linear separable at first glimpse?\n",
    "Let's take a look at a dataset that mentioned in the book [\"The Elements of Statistical Learning: Data Mining, Inference, and Prediction\"](https://web.stanford.edu/~hastie/ElemStatLearn/). The dataset we are talking about is \"South African Heart Disease\", which data description and download link can be found in [here](https://web.stanford.edu/~hastie/ElemStatLearn/data.html).\n",
    "First, let us take a look at this data."
   ]
  },
  {
   "cell_type": "code",
   "execution_count": 13,
   "metadata": {
    "ExecuteTime": {
     "end_time": "2018-05-18T14:52:28.509834+08:00",
     "start_time": "2018-05-18T14:52:28.190598Z"
    }
   },
   "outputs": [
    {
     "data": {
      "image/png": "[encoded data removed]",
      "text/plain": [
       "<Figure size 432x288 with 1 Axes>"
      ]
     },
     "metadata": {},
     "output_type": "display_data"
    },
    {
     "data": {
      "image/png": "[encoded data removed]",
      "text/plain": [
       "<Figure size 432x288 with 1 Axes>"
      ]
     },
     "metadata": {},
     "output_type": "display_data"
    }
   ],
   "source": [
    "import pandas\n",
    "\n",
    "dataset_pandas=pandas.read_csv(\"SAheart.data.csv\")\n",
    "\n",
    "# delete feature not needed\n",
    "del dataset_pandas[\"row.names\"]\n",
    "del dataset_pandas[\"famhist\"]\n",
    "\n",
    "# extract label\n",
    "label=dataset_pandas[\"chd\"]\n",
    "del dataset_pandas[\"chd\"]\n",
    "\n",
    "# preparing features\n",
    "features=dataset_pandas.iterrows()\n",
    "\n",
    "# load to dataset\n",
    "dataset=[]\n",
    "for idx,instance in enumerate(features):\n",
    "    dataset.append((list(instance[1]),label[idx]))\n",
    "    pass\n",
    "\n",
    "# plot the features distribution on graph\n",
    "# see two feature at a time\n",
    "plt.scatter([v[0][0] for v in dataset if v[1]==1],[v[0][1] for v in dataset if v[1]==1],c=\"b\",marker=\"o\")\n",
    "plt.scatter([v[0][0] for v in dataset if v[1]==0],[v[0][1] for v in dataset if v[1]==0],c=\"r\",marker=\"x\")\n",
    "plt.show()\n",
    "\n",
    "# see one feature at a time\n",
    "plt.scatter([v[0][0] for v in dataset if v[1]==1],[l for l in label if l==1],c=\"b\",marker=\"o\")\n",
    "plt.scatter([v[0][0] for v in dataset if v[1]==0],[l for l in label if l==0],c=\"r\",marker=\"x\")\n",
    "plt.show()"
   ]
  },
  {
   "cell_type": "markdown",
   "metadata": {},
   "source": [
    "Let us call our implementation to see the performance."
   ]
  },
  {
   "cell_type": "code",
   "execution_count": 14,
   "metadata": {
    "ExecuteTime": {
     "end_time": "2018-05-18T14:52:33.175503+08:00",
     "start_time": "2018-05-18T14:52:28.510830Z"
    }
   },
   "outputs": [
    {
     "name": "stdout",
     "output_type": "stream",
     "text": [
      "epoch= 0: current_cost= 231.0\n",
      "epoch= 100: current_cost= 159.99999999999153\n",
      "epoch= 200: current_cost= 153.3603980696529\n",
      "epoch= 300: current_cost= 147.41455862592673\n",
      "epoch= 400: current_cost= 147.0173032958943\n",
      "epoch= 500: current_cost= 147.06387346261502\n",
      "epoch= 600: current_cost= 147.1198734299254\n",
      "epoch= 700: current_cost= 147.14693197321645\n",
      "epoch= 800: current_cost= 147.1577319636281\n",
      "epoch= 900: current_cost= 147.1618046614639\n",
      "Accuracy:  0.683 %\n"
     ]
    }
   ],
   "source": [
    "from sklearn.metrics import accuracy_score\n",
    "\n",
    "def logistic(dataset):\n",
    "    w = np.zeros(len(dataset[0][0]))\n",
    "\n",
    "    limit = 1000 #更新幾次後停下\n",
    "\n",
    "    eta = 0.03 #更新幅度\n",
    "\n",
    "    costs = [] #紀錄每次更新權重後新的cost是多少\n",
    "\n",
    "    for i in range(limit):\n",
    "        current_cost = cost(dataset, w)\n",
    "        if i%100==0:\n",
    "            print(\"epoch= \"+str(i)+\": current_cost=\",current_cost)\n",
    "        costs.append(current_cost)\n",
    "        w = w - eta * gradient(dataset, w)\n",
    "        eta *= 0.99 #更新幅度，逐步遞減\n",
    "        \n",
    "    return w,(limit,costs)\n",
    "\n",
    "# implement logistic class and run it\n",
    "w = logistic(dataset)\n",
    "limit = w[1][0]\n",
    "costs = w[1][1]\n",
    "w = w[0]\n",
    "\n",
    "# calculate score\n",
    "pY=[]\n",
    "aY=[]\n",
    "for X,Y in dataset:\n",
    "    aY.append(Y)\n",
    "    pY.append(sigmoid(w.T.dot(X)))\n",
    "pY=np.asarray(pY)\n",
    "pY=pY>0.5\n",
    "print(\"Accuracy: \",str(accuracy_score(aY,pY))[:5],\"%\")"
   ]
  },
  {
   "cell_type": "markdown",
   "metadata": {},
   "source": [
    "We can see that by plotting the points to the 2D canvas, by human eyes can not clearly figure out how to separate these points, this is what **linear** logistic regression cannot perform well, which means we can not separate well by a single line.\n",
    "# What abount **non-linear** logistic regression?\n",
    "---\n"
   ]
  },
  {
   "cell_type": "code",
   "execution_count": 15,
   "metadata": {
    "ExecuteTime": {
     "end_time": "2018-05-18T14:52:33.198194+08:00",
     "start_time": "2018-05-18T14:52:33.176288Z"
    }
   },
   "outputs": [
    {
     "name": "stdout",
     "output_type": "stream",
     "text": [
      "Accuracy:  0.720 %\n"
     ]
    }
   ],
   "source": [
    "import numpy as np\n",
    "import matplotlib.pyplot as plt\n",
    "from sklearn import linear_model\n",
    "from sklearn.metrics import accuracy_score\n",
    "\n",
    "# import some data to play with\n",
    "X = [v[0] for v in dataset]\n",
    "Y = [v[1] for v in dataset]\n",
    "\n",
    "logreg = linear_model.LogisticRegression(C=1e5)\n",
    "\n",
    "# we create an instance of Neighbours Classifier and fit the data.\n",
    "logreg.fit(X, Y)\n",
    "y=logreg.predict(X)\n",
    "\n",
    "# see the performance on this implementation\n",
    "print(\"Accuracy: \",str(accuracy_score(Y,y))[:5],\"%\")"
   ]
  },
  {
   "cell_type": "markdown",
   "metadata": {},
   "source": [
    "From the result above, we can see some slightly improve using the non-linear implementation via sklearn, but...\n",
    "# What can we do to perform better?\n",
    "---\n",
    "So sad that nothing more we can do to make logistic regression better on this task, let us go further to **decision tree**, which can automatically create some suitable conditions to classify these point."
   ]
  },
  {
   "cell_type": "markdown",
   "metadata": {},
   "source": [
    "# Reference\n",
    "> Image taken from https://en.wikipedia.org/wiki/Logistic_regression \n",
    "\n",
    "> Image taken from “Elements of Statistical Learning” by Hastie and Tibshirani\n",
    "\n",
    "> http://terrence.logdown.com/posts/440690-python-super-simple-implementation-of-logistic-regression-classification-and-examples\n",
    "\n",
    "# Credits\n",
    "- [Chi-An Wei](https://github.com/chianwei)\n",
    "- [Tim Niven](https://github.com/timniven)\n",
    "- [Daniel Yeh](https://github.com/xiou-hong)"
   ]
  },
  {
   "cell_type": "code",
   "execution_count": null,
   "metadata": {},
   "outputs": [],
   "source": []
  }
 ],
 "metadata": {
  "kernelspec": {
   "display_name": "Python 3",
   "language": "python",
   "name": "python3"
  },
  "language_info": {
   "codemirror_mode": {
    "name": "ipython",
    "version": 3
   },
   "file_extension": ".py",
   "mimetype": "text/x-python",
   "name": "python",
   "nbconvert_exporter": "python",
   "pygments_lexer": "ipython3",
   "version": "3.6.4"
  },
  "toc": {
   "nav_menu": {},
   "number_sections": false,
   "sideBar": true,
   "skip_h1_title": false,
   "title_cell": "Table of Contents",
   "title_sidebar": "Contents",
   "toc_cell": false,
   "toc_position": {},
   "toc_section_display": true,
   "toc_window_display": false
  }
 },
 "nbformat": 4,
 "nbformat_minor": 2
}
